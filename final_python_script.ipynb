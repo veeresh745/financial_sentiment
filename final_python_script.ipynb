{
 "cells": [
  {
   "cell_type": "code",
   "execution_count": 2,
   "id": "623c2f13",
   "metadata": {},
   "outputs": [
    {
     "name": "stderr",
     "output_type": "stream",
     "text": [
      "[nltk_data] Downloading package stopwords to\n",
      "[nltk_data]     /Users/aniketpatro/nltk_data...\n",
      "[nltk_data]   Package stopwords is already up-to-date!\n"
     ]
    }
   ],
   "source": [
    "#importing librarires\n",
    "import pandas as pd\n",
    "import numpy as np\n",
    "from nltk.corpus import stopwords\n",
    "\n",
    "import string\n",
    "import nltk\n",
    "nltk.download(\"stopwords\")\n",
    "\n",
    "from sklearn.naive_bayes import MultinomialNB\n",
    "from sklearn.model_selection import train_test_split\n",
    "from sklearn.metrics import accuracy_score\n",
    "from sklearn.feature_extraction.text import CountVectorizer\n",
    "\n",
    "from sklearn.feature_extraction.text import TfidfTransformer"
   ]
  },
  {
   "cell_type": "code",
   "execution_count": 4,
   "id": "60e76334",
   "metadata": {},
   "outputs": [],
   "source": [
    "#Reading the file used for training the model\n",
    "df=pd.read_csv('fdata.csv')"
   ]
  },
  {
   "cell_type": "code",
   "execution_count": 3,
   "id": "81a82b90",
   "metadata": {},
   "outputs": [],
   "source": [
    "#Defining the clean text function to clean the input text if required\n",
    "\n",
    "def clean_text(text):\n",
    "    # create a list of stop words\n",
    "    stop_words = [stopwords.words(\"english\")]\n",
    "    \n",
    "    no_punc = [word for word in text if word not in string.punctuation]\n",
    "    \n",
    "    no_punc_str = \"\".join(no_punc)\n",
    "    \n",
    "    return \"\".join([word for word in no_punc_str if word.lower() not in stop_words])"
   ]
  },
  {
   "cell_type": "code",
   "execution_count": 5,
   "id": "b0687333",
   "metadata": {},
   "outputs": [],
   "source": [
    "#Cleaning the dataset\n",
    "df[\"cleaned\"] = df[\"Sentence\"].apply(clean_text)\n",
    "df[\"mapped_sentiments\"] = np.where(df[\"Sentiment\"]==\"positive\", 1, np.where(df[\"Sentiment\"]==\"negative\", -1, 0))\n",
    "df = df.drop([\"Sentence\", \"Sentiment\"], axis=1)"
   ]
  },
  {
   "cell_type": "code",
   "execution_count": 6,
   "id": "be42fb3d",
   "metadata": {},
   "outputs": [],
   "source": [
    "#Splitting dataset for training\n",
    "X = df[\"cleaned\"]\n",
    "y = df[\"mapped_sentiments\"]\n",
    "X_train, X_test, y_train, y_test = train_test_split(X, y, random_state = 1)"
   ]
  },
  {
   "cell_type": "code",
   "execution_count": 7,
   "id": "a2b2c5b6",
   "metadata": {},
   "outputs": [
    {
     "data": {
      "text/plain": [
       "<4381x10899 sparse matrix of type '<class 'numpy.float64'>'\n",
       "\twith 71986 stored elements in Compressed Sparse Row format>"
      ]
     },
     "execution_count": 7,
     "metadata": {},
     "output_type": "execute_result"
    }
   ],
   "source": [
    "#Vectorizing and transforming\n",
    "count_vec = CountVectorizer()\n",
    "\n",
    "count_vec.fit(X_train)\n",
    "\n",
    "X_train_vec = count_vec.transform(X_train)\n",
    "X_test_vec = count_vec.transform(X_test)\n",
    "\n",
    "tfidf = TfidfTransformer()\n",
    "\n",
    "tfidf.fit(X_train_vec)\n",
    "tfidf.transform(X_train_vec)"
   ]
  },
  {
   "cell_type": "code",
   "execution_count": 8,
   "id": "5e64fba5",
   "metadata": {},
   "outputs": [
    {
     "data": {
      "text/plain": [
       "0.6988364134154689"
      ]
     },
     "execution_count": 8,
     "metadata": {},
     "output_type": "execute_result"
    }
   ],
   "source": [
    "#Training and Testing the Model\n",
    "model = MultinomialNB()\n",
    "model.fit(X_train_vec, y_train)\n",
    "pred = model.predict(X_test_vec)\n",
    "accuracy_score(y_test, pred)"
   ]
  },
  {
   "cell_type": "code",
   "execution_count": 9,
   "id": "dc0a2b5f",
   "metadata": {},
   "outputs": [],
   "source": [
    "def pred_news(test_news):\n",
    "    \n",
    "    testnews = []\n",
    "    test_news_cleaned = clean_text(test_news)\n",
    "    testnews.append(test_news_cleaned)\n",
    "    test_news_transformed = count_vec.transform(testnews)\n",
    "    pred1 = model.predict(test_news_transformed)\n",
    "    \n",
    "    \n",
    "    if (pred1[0] == 1):\n",
    "        print(\"News is Positive\")\n",
    "    elif (pred1[0] == -1):\n",
    "        print(\"News is Negative\")\n",
    "    else:\n",
    "        print(\"News is Neutral\")"
   ]
  },
  {
   "cell_type": "code",
   "execution_count": 13,
   "id": "cd562a18",
   "metadata": {},
   "outputs": [
    {
     "name": "stdout",
     "output_type": "stream",
     "text": [
      "News is Negative\n"
     ]
    }
   ],
   "source": [
    "pred_news(\"Banks tumble as SVB ignites capitalization fears\")"
   ]
  },
  {
   "cell_type": "code",
   "execution_count": null,
   "id": "54377972",
   "metadata": {},
   "outputs": [],
   "source": []
  }
 ],
 "metadata": {
  "kernelspec": {
   "display_name": "Python 3 (ipykernel)",
   "language": "python",
   "name": "python3"
  },
  "language_info": {
   "codemirror_mode": {
    "name": "ipython",
    "version": 3
   },
   "file_extension": ".py",
   "mimetype": "text/x-python",
   "name": "python",
   "nbconvert_exporter": "python",
   "pygments_lexer": "ipython3",
   "version": "3.10.8"
  }
 },
 "nbformat": 4,
 "nbformat_minor": 5
}
